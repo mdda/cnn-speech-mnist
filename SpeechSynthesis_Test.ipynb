{
 "cells": [
  {
   "cell_type": "code",
   "execution_count": null,
   "metadata": {
    "collapsed": true
   },
   "outputs": [],
   "source": [
    "import os\n",
    "\n",
    "import numpy as np\n",
    "import matplotlib.pyplot as plt\n",
    "import scipy.misc  # for image resizing\n",
    "\n",
    "#import scipy.io.wavfile\n",
    "\n",
    "# pip install soundfile\n",
    "import soundfile\n",
    "\n",
    "from IPython.display import Audio as audio_playback_widget"
   ]
  },
  {
   "cell_type": "code",
   "execution_count": null,
   "metadata": {
    "collapsed": true
   },
   "outputs": [],
   "source": [
    "#f = './data/raw-from-phone.wav'  # un-normalized\n",
    "f = './data/num_phone_en-UK_m_Martin14.wav'  # has been normed"
   ]
  },
  {
   "cell_type": "code",
   "execution_count": null,
   "metadata": {
    "collapsed": false
   },
   "outputs": [],
   "source": [
    "# Read in the original file\n",
    "samples, sample_rate = soundfile.read(f)\n",
    "\n",
    "samples = samples / np.max(samples)  # Norm the signal\n",
    "\n",
    "def show_waveform(sound):\n",
    "    n_samples = sound.shape[0]\n",
    "\n",
    "    plt.figure(figsize=(12,2))\n",
    "    plt.plot(np.arange(0.0, n_samples)/sample_rate, sound)\n",
    "    plt.xticks( np.arange(0.0, n_samples/sample_rate, 0.5), rotation=90 )\n",
    "\n",
    "    plt.grid(True)\n",
    "\n",
    "    plt.show()\n",
    "\n",
    "show_waveform(samples)\n",
    "audio_playback_widget(f)"
   ]
  },
  {
   "cell_type": "code",
   "execution_count": null,
   "metadata": {
    "collapsed": true
   },
   "outputs": [],
   "source": [
    "n_fft = 512\n",
    "\n",
    "fft_step   = 0.010 # 10ms\n",
    "fft_window = 0.025 # 25ms"
   ]
  },
  {
   "cell_type": "code",
   "execution_count": null,
   "metadata": {
    "collapsed": false
   },
   "outputs": [],
   "source": [
    "import librosa\n",
    "\n",
    "#hop_length=int(fft_step*sample_rate)   # number audio of frames between STFT columns\n",
    "#win_length=int(fft_window*sample_rate) # number audio of frames between STFT columns\n",
    "\n",
    "win_length=None # defaults to n_fft\n",
    "hop_length=None # defaults to win_length/4\n",
    "\n",
    "spectrum_complex = librosa.stft(samples, n_fft=n_fft, \n",
    "                   hop_length=hop_length, win_length=win_length,\n",
    "                   window='hann', center=True, \n",
    "                   dtype=np.complex64) # This has real and imaginary parts each as float32\n",
    "\n",
    "spectrum_complex.shape"
   ]
  },
  {
   "cell_type": "code",
   "execution_count": null,
   "metadata": {
    "collapsed": false
   },
   "outputs": [],
   "source": [
    "samples_defft = librosa.istft(spectrum_complex, hop_length=hop_length, win_length=win_length)"
   ]
  },
  {
   "cell_type": "code",
   "execution_count": null,
   "metadata": {
    "collapsed": false
   },
   "outputs": [],
   "source": [
    "def quick_view_and_play(stub, samples_here):\n",
    "    f = './tmp/%s.wav' % (stub,)\n",
    "    soundfile.write(f, samples_here/np.max(samples_here), samplerate=sample_rate)\n",
    "    show_waveform(samples_here)\n",
    "    return audio_playback_widget(f)\n",
    "\n",
    "quick_view_and_play('defft', samples_defft)"
   ]
  },
  {
   "cell_type": "code",
   "execution_count": null,
   "metadata": {
    "collapsed": false
   },
   "outputs": [],
   "source": [
    "spectrum_real = np.absolute(spectrum_complex)\n",
    "# effectively, all phase information==0\n",
    "\n",
    "samples_re_defft = librosa.istft(spectrum_real, hop_length=hop_length, win_length=win_length)\n",
    "quick_view_and_play('re-defft', samples_re_defft)"
   ]
  },
  {
   "cell_type": "code",
   "execution_count": null,
   "metadata": {
    "collapsed": false,
    "scrolled": false
   },
   "outputs": [],
   "source": [
    "def real_spectrum_to_samples( spectrum_re ):\n",
    "    phases = 2.0 * np.pi * np.random.random_sample(spectrum_re.shape) - np.pi\n",
    "    #phases = np.zeros_like( spectrum_re )\n",
    "\n",
    "    for i in range(20):\n",
    "        spectrum_complex_guess = spectrum_re * np.exp(1.j*phases)\n",
    "\n",
    "        samples_reim = librosa.istft(spectrum_complex_guess, \n",
    "                                     hop_length=hop_length, win_length=win_length,\n",
    "                                     window='hann', center=True, \n",
    "                                    )\n",
    "\n",
    "        re_calc_fft = librosa.stft(samples_reim, n_fft=n_fft, \n",
    "                       hop_length=hop_length, win_length=win_length,\n",
    "                       window='hann', center=True, \n",
    "                       dtype=np.complex64)\n",
    "\n",
    "        phases_next = np.angle( re_calc_fft )  # What are the phases just reported?  Next iteration, use these\n",
    "        #phases = (phases+phases_next)/2.0\n",
    "        \n",
    "        phases_diff = (phases_next - phases + np.pi) % (2 * np.pi ) - np.pi\n",
    "        \n",
    "        phases_clipped = np.clip( phases_diff, a_min=-np.pi/8.0, a_max=+np.pi/8.0)\n",
    "        phases = phases + phases_clipped\n",
    "        \n",
    "        print( [ '%+.4f' % p for p in phases_clipped[30:40, int(5.3/fft_step)] ] )\n",
    "        #print( np.abs(phases_diff).mean() )\n",
    "        \n",
    "    return samples_reim\n",
    "    \n",
    "samples_reim_defft = real_spectrum_to_samples( spectrum_real )\n",
    "\n",
    "quick_view_and_play('reim-defft', samples_reim_defft)"
   ]
  },
  {
   "cell_type": "code",
   "execution_count": null,
   "metadata": {
    "collapsed": false
   },
   "outputs": [],
   "source": [
    "import python_speech_features\n",
    "n_mel_freq_components = 64\n",
    "\n",
    "# create_mel_filters\n",
    "mel_inversion_filter = python_speech_features.get_filterbanks(nfft=n_fft, samplerate=sample_rate,\n",
    "                                        nfilt=n_mel_freq_components,\n",
    "                                        lowfreq = 300.0, highfreq = 8000.0)\n",
    "                                        #lowfreq = 0, highfreq = None)\n",
    "\n",
    "mel_filter = mel_inversion_filter.T / mel_inversion_filter.sum(axis=1)\n",
    "mel_filter.shape"
   ]
  },
  {
   "cell_type": "code",
   "execution_count": null,
   "metadata": {
    "collapsed": true
   },
   "outputs": [],
   "source": [
    "def make_mel(spectrogram, mel_filter, shorten_factor=1.0):\n",
    "    #mel_spec = np.transpose(mel_filter).dot( np.transpose(spectrogram) )\n",
    "    #spectrogram = np.square(spectrogram)  # Convert to 'power'\n",
    "    mel_spec = np.transpose(spectrogram).dot( mel_filter )\n",
    "    #mel_spec = scipy.ndimage.zoom(mel_spec.astype('float32'), [1, 1./shorten_factor]).astype('float16')\n",
    "    mel_spec = scipy.ndimage.zoom(mel_spec.astype('float32'), [1./shorten_factor, 1]).astype('float16')\n",
    "    #mel_spec = mel_spec[:,1:-1] # a little hacky but seemingly needed for clipping \n",
    "    return mel_spec\n",
    "\n",
    "def mel_to_spectrogram(mel_spec, mel_inversion_filter, shorten_factor=1.0, spec_thresh=0.0):\n",
    "    \"\"\"\n",
    "    takes in an mel spectrogram and returns a normal spectrogram for inversion \n",
    "    \"\"\"\n",
    "    mel_spec = (mel_spec+spec_thresh)\n",
    "    uncompressed_spec = scipy.ndimage.zoom(mel_spec.astype('float32'), [shorten_factor,1]).astype('float16')\n",
    "    #uncompressed_spec = np.transpose(np.transpose(mel_spec).dot(mel_inversion_filter))\n",
    "    uncompressed_spec = np.transpose( uncompressed_spec.dot(mel_inversion_filter) )\n",
    "    #uncompressed_spec = uncompressed_spec -4\n",
    "    #uncompressed_spec = np.sqrt(uncompressed_spec)  # Convert from 'power'\n",
    "    return uncompressed_spec"
   ]
  },
  {
   "cell_type": "code",
   "execution_count": null,
   "metadata": {
    "collapsed": false
   },
   "outputs": [],
   "source": [
    "shorten_factor=2.0\n",
    "\n",
    "#mel_spec = make_mel(spectrum_real, mel_filter, shorten_factor=shorten_factor)\n",
    "mel_spec = make_mel(spectrum_real/np.max(spectrum_real), mel_filter, shorten_factor=shorten_factor)\n",
    "\n",
    "#spectrum_real\n",
    "mel_spec.shape"
   ]
  },
  {
   "cell_type": "code",
   "execution_count": null,
   "metadata": {
    "collapsed": false
   },
   "outputs": [],
   "source": [
    "# plot the compressed spec\n",
    "fig, ax = plt.subplots(nrows=1,ncols=1, figsize=(20,4))\n",
    "\n",
    "cax = ax.matshow(np.log(mel_spec.T), interpolation='nearest', aspect='auto', cmap=plt.cm.afmhot, origin='lower')\n",
    "fig.colorbar(cax)\n",
    "plt.title('mel Spectrogram')\n",
    "plt.show()"
   ]
  },
  {
   "cell_type": "code",
   "execution_count": null,
   "metadata": {
    "collapsed": false
   },
   "outputs": [],
   "source": [
    "spectrogram_from_mel = mel_to_spectrogram(mel_spec, mel_inversion_filter,\n",
    "                                          shorten_factor=shorten_factor)"
   ]
  },
  {
   "cell_type": "code",
   "execution_count": null,
   "metadata": {
    "collapsed": false
   },
   "outputs": [],
   "source": [
    "# plot the recovered spec\n",
    "fig, ax = plt.subplots(nrows=1,ncols=1, figsize=(20,4))\n",
    "\n",
    "cax = ax.matshow(spectrogram_from_mel, interpolation='nearest', aspect='auto', cmap=plt.cm.afmhot, origin='lower')\n",
    "fig.colorbar(cax)\n",
    "plt.title('mel Spectrogram')\n",
    "plt.show()"
   ]
  },
  {
   "cell_type": "code",
   "execution_count": null,
   "metadata": {
    "collapsed": false
   },
   "outputs": [],
   "source": [
    "samples_via_mel = real_spectrum_to_samples( spectrogram_from_mel )\n",
    "\n",
    "quick_view_and_play('via-mel', samples_via_mel)"
   ]
  },
  {
   "cell_type": "code",
   "execution_count": null,
   "metadata": {
    "collapsed": true
   },
   "outputs": [],
   "source": []
  },
  {
   "cell_type": "code",
   "execution_count": null,
   "metadata": {
    "collapsed": true
   },
   "outputs": [],
   "source": []
  }
 ],
 "metadata": {
  "kernelspec": {
   "display_name": "Python 3",
   "language": "python",
   "name": "python3"
  },
  "language_info": {
   "codemirror_mode": {
    "name": "ipython",
    "version": 3
   },
   "file_extension": ".py",
   "mimetype": "text/x-python",
   "name": "python",
   "nbconvert_exporter": "python",
   "pygments_lexer": "ipython3",
   "version": "3.5.2"
  }
 },
 "nbformat": 4,
 "nbformat_minor": 2
}